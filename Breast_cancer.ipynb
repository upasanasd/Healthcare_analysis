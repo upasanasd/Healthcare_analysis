{
  "nbformat": 4,
  "nbformat_minor": 0,
  "metadata": {
    "colab": {
      "provenance": []
    },
    "kernelspec": {
      "name": "python3",
      "display_name": "Python 3"
    },
    "language_info": {
      "name": "python"
    }
  },
  "cells": [
    {
      "cell_type": "code",
      "execution_count": 24,
      "metadata": {
        "colab": {
          "base_uri": "https://localhost:8080/"
        },
        "id": "b3ODyx4rNaLh",
        "outputId": "c1bd5e93-d9e2-424f-abb8-0c9bc09b2b03"
      },
      "outputs": [
        {
          "output_type": "stream",
          "name": "stdout",
          "text": [
            "Requirement already satisfied: pyspark in /usr/local/lib/python3.10/dist-packages (3.5.3)\n",
            "Requirement already satisfied: py4j==0.10.9.7 in /usr/local/lib/python3.10/dist-packages (from pyspark) (0.10.9.7)\n"
          ]
        }
      ],
      "source": [
        "pip install pyspark\n"
      ]
    },
    {
      "cell_type": "code",
      "source": [
        "from pyspark.sql import SparkSession\n",
        "from pyspark.sql.functions import col\n",
        "\n",
        "# Initialize Spark session\n",
        "spark = SparkSession.builder \\\n",
        "    .appName(\"Breast Cancer Data Analysis\") \\\n",
        "    .getOrCreate()\n",
        "\n",
        "# Define headers based on dataset structure\n",
        "columns = [\n",
        "    \"recurrence_status\", \"age\", \"menopause\", \"tumor_size\", \"inv_nodes\",\n",
        "    \"node_caps\", \"deg_malig\", \"breast\", \"breast_quad\", \"irradiat\"\n",
        "]\n",
        "\n",
        "# Load dataset with headers\n",
        "file_path = \"/content/breast-cancer.data\"  # Replace with the actual path\n",
        "df = spark.read.csv(file_path, header=False, inferSchema=True)\n",
        "df = df.toDF(*columns)\n",
        "\n",
        "# Display dataset\n",
        "df.show(5)\n"
      ],
      "metadata": {
        "colab": {
          "base_uri": "https://localhost:8080/"
        },
        "id": "GXXKkYYCPFz5",
        "outputId": "defa0cf2-dcee-4d48-b759-c45c2ff68841"
      },
      "execution_count": 25,
      "outputs": [
        {
          "output_type": "stream",
          "name": "stdout",
          "text": [
            "+--------------------+-----+---------+----------+---------+---------+---------+------+-----------+--------+\n",
            "|   recurrence_status|  age|menopause|tumor_size|inv_nodes|node_caps|deg_malig|breast|breast_quad|irradiat|\n",
            "+--------------------+-----+---------+----------+---------+---------+---------+------+-----------+--------+\n",
            "|no-recurrence-events|30-39|  premeno|     30-34|      0-2|       no|        3|  left|   left_low|      no|\n",
            "|no-recurrence-events|40-49|  premeno|     20-24|      0-2|       no|        2| right|   right_up|      no|\n",
            "|no-recurrence-events|40-49|  premeno|     20-24|      0-2|       no|        2|  left|   left_low|      no|\n",
            "|no-recurrence-events|60-69|     ge40|     15-19|      0-2|       no|        2| right|    left_up|      no|\n",
            "|no-recurrence-events|40-49|  premeno|       0-4|      0-2|       no|        2| right|  right_low|      no|\n",
            "+--------------------+-----+---------+----------+---------+---------+---------+------+-----------+--------+\n",
            "only showing top 5 rows\n",
            "\n"
          ]
        }
      ]
    },
    {
      "cell_type": "code",
      "source": [
        "# Handle missing values (if any)\n",
        "df = df.replace(\"?\", None).na.drop()\n",
        "\n",
        "# Inspect schema and basic statistics\n",
        "df.printSchema()\n",
        "df.describe().show()\n"
      ],
      "metadata": {
        "colab": {
          "base_uri": "https://localhost:8080/"
        },
        "id": "fTKzt8DpQEE2",
        "outputId": "b8dadbba-79dc-4bf5-d48a-9e471c58f231"
      },
      "execution_count": 26,
      "outputs": [
        {
          "output_type": "stream",
          "name": "stdout",
          "text": [
            "root\n",
            " |-- recurrence_status: string (nullable = true)\n",
            " |-- age: string (nullable = true)\n",
            " |-- menopause: string (nullable = true)\n",
            " |-- tumor_size: string (nullable = true)\n",
            " |-- inv_nodes: string (nullable = true)\n",
            " |-- node_caps: string (nullable = true)\n",
            " |-- deg_malig: integer (nullable = true)\n",
            " |-- breast: string (nullable = true)\n",
            " |-- breast_quad: string (nullable = true)\n",
            " |-- irradiat: string (nullable = true)\n",
            "\n",
            "+-------+--------------------+-----+---------+----------+---------+---------+------------------+------+-----------+--------+\n",
            "|summary|   recurrence_status|  age|menopause|tumor_size|inv_nodes|node_caps|         deg_malig|breast|breast_quad|irradiat|\n",
            "+-------+--------------------+-----+---------+----------+---------+---------+------------------+------+-----------+--------+\n",
            "|  count|                 277|  277|      277|       277|      277|      277|               277|   277|        277|     277|\n",
            "|   mean|                NULL| NULL|     NULL|      NULL|     NULL|     NULL|2.0577617328519855|  NULL|       NULL|    NULL|\n",
            "| stddev|                NULL| NULL|     NULL|      NULL|     NULL|     NULL|0.7299886148466163|  NULL|       NULL|    NULL|\n",
            "|    min|no-recurrence-events|20-29|     ge40|       0-4|      0-2|       no|                 1|  left|    central|      no|\n",
            "|    max|   recurrence-events|70-79|  premeno|     50-54|     9-11|      yes|                 3| right|   right_up|     yes|\n",
            "+-------+--------------------+-----+---------+----------+---------+---------+------------------+------+-----------+--------+\n",
            "\n"
          ]
        }
      ]
    },
    {
      "cell_type": "code",
      "source": [
        "from pyspark.sql.functions import when, count\n",
        "\n",
        "# Categorize age groups\n",
        "df = df.withColumn(\n",
        "    \"age_group\",\n",
        "    when(col(\"age\") == \"30-39\", \"Young\")\n",
        "    .when(col(\"age\").isin(\"40-49\", \"50-59\"), \"Middle-aged\")\n",
        "    .otherwise(\"Older\")\n",
        ")\n",
        "\n",
        "# Count recurrence status by age group\n",
        "recurrence_analysis = df.groupBy(\"age_group\", \"recurrence_status\").count()\n",
        "\n",
        "# Show results\n",
        "recurrence_analysis.show()\n"
      ],
      "metadata": {
        "colab": {
          "base_uri": "https://localhost:8080/"
        },
        "id": "3s098becQtMy",
        "outputId": "1dafb981-1227-4f89-9943-73c689578bc1"
      },
      "execution_count": 27,
      "outputs": [
        {
          "output_type": "stream",
          "name": "stdout",
          "text": [
            "+-----------+--------------------+-----+\n",
            "|  age_group|   recurrence_status|count|\n",
            "+-----------+--------------------+-----+\n",
            "|Middle-aged|   recurrence-events|   49|\n",
            "|      Young|   recurrence-events|   15|\n",
            "|      Older|   recurrence-events|   17|\n",
            "|      Young|no-recurrence-events|   21|\n",
            "|Middle-aged|no-recurrence-events|  131|\n",
            "|      Older|no-recurrence-events|   44|\n",
            "+-----------+--------------------+-----+\n",
            "\n"
          ]
        }
      ]
    },
    {
      "cell_type": "code",
      "source": [
        "# Tumor size distribution based on malignancy degree\n",
        "tumor_analysis = df.groupBy(\"tumor_size\", \"deg_malig\").count()\n",
        "\n",
        "# Show results\n",
        "tumor_analysis.orderBy(\"deg_malig\", \"tumor_size\").show()\n"
      ],
      "metadata": {
        "colab": {
          "base_uri": "https://localhost:8080/"
        },
        "id": "ehj_AttHTKf_",
        "outputId": "39be8c49-2377-4c55-e0bf-f811364b4971"
      },
      "execution_count": 28,
      "outputs": [
        {
          "output_type": "stream",
          "name": "stdout",
          "text": [
            "+----------+---------+-----+\n",
            "|tumor_size|deg_malig|count|\n",
            "+----------+---------+-----+\n",
            "|       0-4|        1|    3|\n",
            "|     10-14|        1|   14|\n",
            "|     15-19|        1|    8|\n",
            "|     20-24|        1|    8|\n",
            "|     25-29|        1|    9|\n",
            "|     30-34|        1|   13|\n",
            "|     35-39|        1|    2|\n",
            "|     40-44|        1|    5|\n",
            "|     45-49|        1|    1|\n",
            "|       5-9|        1|    2|\n",
            "|     50-54|        1|    1|\n",
            "|       0-4|        2|    4|\n",
            "|     10-14|        2|   12|\n",
            "|     15-19|        2|   15|\n",
            "|     20-24|        2|   27|\n",
            "|     25-29|        2|   25|\n",
            "|     30-34|        2|   21|\n",
            "|     35-39|        2|    7|\n",
            "|     40-44|        2|    9|\n",
            "|     45-49|        2|    1|\n",
            "+----------+---------+-----+\n",
            "only showing top 20 rows\n",
            "\n"
          ]
        }
      ]
    },
    {
      "cell_type": "code",
      "source": [
        "# Save results to CSV\n",
        "recurrence_analysis.write.csv(\"recurrence_analysis_results.csv\", header=True)\n",
        "tumor_analysis.write.csv(\"tumor_analysis_results.csv\", header=True)\n",
        "\n",
        "print(\"Analysis complete and results saved.\")\n"
      ],
      "metadata": {
        "colab": {
          "base_uri": "https://localhost:8080/"
        },
        "id": "EE3S-4cbTR-1",
        "outputId": "9cdf9db5-70f9-4183-95d4-c39914c88bf8"
      },
      "execution_count": 29,
      "outputs": [
        {
          "output_type": "stream",
          "name": "stdout",
          "text": [
            "Analysis complete and results saved.\n"
          ]
        }
      ]
    },
    {
      "cell_type": "code",
      "source": [
        "import os\n",
        "\n",
        "print(os.path.isdir(\"recurrence_analysis_results.csv\"))  # True if it's a directory\n",
        "print(os.path.isfile(\"recurrence_analysis_results.csv\")) # True if it's a file\n",
        "\n"
      ],
      "metadata": {
        "colab": {
          "base_uri": "https://localhost:8080/"
        },
        "id": "SAJHOy3B2kCh",
        "outputId": "a7b7b7fb-6f3b-41f7-de34-f773c461ca75"
      },
      "execution_count": 48,
      "outputs": [
        {
          "output_type": "stream",
          "name": "stdout",
          "text": [
            "True\n",
            "False\n"
          ]
        }
      ]
    },
    {
      "cell_type": "code",
      "source": [
        "import os\n",
        "\n",
        "os.rename(\"recurrence_analysis_results.csv\", \"recurrence_analysis_results_dir\")\n",
        "print(\"Directory renamed successfully.\")\n"
      ],
      "metadata": {
        "colab": {
          "base_uri": "https://localhost:8080/"
        },
        "id": "EaMKtfJP3u8P",
        "outputId": "b00f7d53-b5c0-4319-ef78-d6404b711724"
      },
      "execution_count": 49,
      "outputs": [
        {
          "output_type": "stream",
          "name": "stdout",
          "text": [
            "Directory renamed successfully.\n"
          ]
        }
      ]
    },
    {
      "cell_type": "code",
      "source": [
        "df = pd.DataFrame({\n",
        "    \"age_group\": [\"30-39\", \"40-49\", \"50-59\"],\n",
        "    \"count\": [12, 15, 9],\n",
        "    \"recurrence_status\": [\"recurrence\", \"no recurrence\", \"recurrence\"]\n",
        "})\n",
        "\n",
        "df.to_csv(\"recurrence_analysis_results.csv\", index=False)\n",
        "print(\"File saved successfully.\")\n"
      ],
      "metadata": {
        "colab": {
          "base_uri": "https://localhost:8080/"
        },
        "id": "rHYoFYNy3-U0",
        "outputId": "1264b11a-2465-483b-eb4f-06026598dc27"
      },
      "execution_count": 51,
      "outputs": [
        {
          "output_type": "stream",
          "name": "stdout",
          "text": [
            "File saved successfully.\n"
          ]
        }
      ]
    },
    {
      "cell_type": "code",
      "source": [
        "print(os.listdir())\n"
      ],
      "metadata": {
        "colab": {
          "base_uri": "https://localhost:8080/"
        },
        "id": "S_K0mavl4Jbr",
        "outputId": "b18a52bd-533d-4120-e633-8b5165134701"
      },
      "execution_count": 52,
      "outputs": [
        {
          "output_type": "stream",
          "name": "stdout",
          "text": [
            "['.config', 'Index', '.ipynb_checkpoints', 'sample_data', 'tumor_analysis_results.csv', 'recurrence_analysis_results_dir', 'breast-cancer.data', 'breast-cancer.names', 'recurrence_analysis_results.csv']\n"
          ]
        }
      ]
    },
    {
      "cell_type": "code",
      "source": [
        "df = pd.read_csv(\"recurrence_analysis_results.csv\")\n",
        "print(df.head())\n"
      ],
      "metadata": {
        "colab": {
          "base_uri": "https://localhost:8080/"
        },
        "id": "qRc4Oo274NBb",
        "outputId": "23389a0b-6bbf-4793-af51-1dff6b2ba0ad"
      },
      "execution_count": 53,
      "outputs": [
        {
          "output_type": "stream",
          "name": "stdout",
          "text": [
            "  age_group  count recurrence_status\n",
            "0     30-39     12        recurrence\n",
            "1     40-49     15     no recurrence\n",
            "2     50-59      9        recurrence\n"
          ]
        }
      ]
    },
    {
      "cell_type": "code",
      "source": [
        "pip install matplotlib seaborn pandas\n"
      ],
      "metadata": {
        "colab": {
          "base_uri": "https://localhost:8080/"
        },
        "id": "6bu0QtV0TlNt",
        "outputId": "3f8f10ce-ff94-4b9f-aa87-926bc62447b8"
      },
      "execution_count": null,
      "outputs": [
        {
          "output_type": "stream",
          "name": "stdout",
          "text": [
            "Requirement already satisfied: matplotlib in /usr/local/lib/python3.10/dist-packages (3.8.0)\n",
            "Requirement already satisfied: seaborn in /usr/local/lib/python3.10/dist-packages (0.13.2)\n",
            "Requirement already satisfied: pandas in /usr/local/lib/python3.10/dist-packages (2.2.2)\n",
            "Requirement already satisfied: contourpy>=1.0.1 in /usr/local/lib/python3.10/dist-packages (from matplotlib) (1.3.1)\n",
            "Requirement already satisfied: cycler>=0.10 in /usr/local/lib/python3.10/dist-packages (from matplotlib) (0.12.1)\n",
            "Requirement already satisfied: fonttools>=4.22.0 in /usr/local/lib/python3.10/dist-packages (from matplotlib) (4.55.1)\n",
            "Requirement already satisfied: kiwisolver>=1.0.1 in /usr/local/lib/python3.10/dist-packages (from matplotlib) (1.4.7)\n",
            "Requirement already satisfied: numpy<2,>=1.21 in /usr/local/lib/python3.10/dist-packages (from matplotlib) (1.26.4)\n",
            "Requirement already satisfied: packaging>=20.0 in /usr/local/lib/python3.10/dist-packages (from matplotlib) (24.2)\n",
            "Requirement already satisfied: pillow>=6.2.0 in /usr/local/lib/python3.10/dist-packages (from matplotlib) (11.0.0)\n",
            "Requirement already satisfied: pyparsing>=2.3.1 in /usr/local/lib/python3.10/dist-packages (from matplotlib) (3.2.0)\n",
            "Requirement already satisfied: python-dateutil>=2.7 in /usr/local/lib/python3.10/dist-packages (from matplotlib) (2.8.2)\n",
            "Requirement already satisfied: pytz>=2020.1 in /usr/local/lib/python3.10/dist-packages (from pandas) (2024.2)\n",
            "Requirement already satisfied: tzdata>=2022.7 in /usr/local/lib/python3.10/dist-packages (from pandas) (2024.2)\n",
            "Requirement already satisfied: six>=1.5 in /usr/local/lib/python3.10/dist-packages (from python-dateutil>=2.7->matplotlib) (1.16.0)\n"
          ]
        }
      ]
    },
    {
      "cell_type": "code",
      "source": [
        "import os\n",
        "\n",
        "print(\"Is 'tumor_analysis_results.csv' a directory?\", os.path.isdir(\"tumor_analysis_results.csv\"))\n",
        "print(\"Is 'tumor_analysis_results.csv' a file?\", os.path.isfile(\"tumor_analysis_results.csv\"))\n"
      ],
      "metadata": {
        "colab": {
          "base_uri": "https://localhost:8080/"
        },
        "id": "XN8GiF-14hMH",
        "outputId": "ccebca06-c99d-47cd-d6e9-f175b1e17c35"
      },
      "execution_count": 55,
      "outputs": [
        {
          "output_type": "stream",
          "name": "stdout",
          "text": [
            "Is 'tumor_analysis_results.csv' a directory? True\n",
            "Is 'tumor_analysis_results.csv' a file? False\n"
          ]
        }
      ]
    },
    {
      "cell_type": "code",
      "source": [
        "import os\n",
        "\n",
        "os.rename(\"tumor_analysis_results.csv\", \"tumor_analysis_results_dir\")\n",
        "print(\"Directory renamed successfully.\")\n"
      ],
      "metadata": {
        "colab": {
          "base_uri": "https://localhost:8080/"
        },
        "id": "5CJ27BPr4uCS",
        "outputId": "e221df74-586b-4db6-91e3-30559e0cad1f"
      },
      "execution_count": 56,
      "outputs": [
        {
          "output_type": "stream",
          "name": "stdout",
          "text": [
            "Directory renamed successfully.\n"
          ]
        }
      ]
    },
    {
      "cell_type": "code",
      "source": [
        "import pandas as pd\n",
        "\n",
        "# Example DataFrame\n",
        "df = pd.DataFrame({\n",
        "    \"tumor_type\": [\"benign\", \"malignant\", \"benign\"],\n",
        "    \"count\": [30, 20, 25]\n",
        "})\n",
        "\n",
        "# Save as CSV\n",
        "df.to_csv(\"tumor_analysis_results.csv\", index=False)\n",
        "print(\"File 'tumor_analysis_results.csv' saved successfully.\")\n"
      ],
      "metadata": {
        "colab": {
          "base_uri": "https://localhost:8080/"
        },
        "id": "UVuRul5A5CXp",
        "outputId": "bd7579dc-9980-44c7-db7b-2be57f0f5f9f"
      },
      "execution_count": 58,
      "outputs": [
        {
          "output_type": "stream",
          "name": "stdout",
          "text": [
            "File 'tumor_analysis_results.csv' saved successfully.\n"
          ]
        }
      ]
    },
    {
      "cell_type": "code",
      "source": [
        "import os\n",
        "\n",
        "print(os.listdir())\n"
      ],
      "metadata": {
        "colab": {
          "base_uri": "https://localhost:8080/"
        },
        "id": "5w9zqecN5Hk5",
        "outputId": "d6a4c63d-f3e0-45d2-a0a4-dbf4ce46a345"
      },
      "execution_count": 59,
      "outputs": [
        {
          "output_type": "stream",
          "name": "stdout",
          "text": [
            "['.config', 'tumor_analysis_results_dir', 'Index', '.ipynb_checkpoints', 'sample_data', 'tumor_analysis_results.csv', 'recurrence_analysis_results_dir', 'breast-cancer.data', 'breast-cancer.names', 'recurrence_analysis_results.csv']\n"
          ]
        }
      ]
    },
    {
      "cell_type": "code",
      "source": [
        "df = pd.read_csv(\"tumor_analysis_results.csv\")\n",
        "print(df.head())\n"
      ],
      "metadata": {
        "colab": {
          "base_uri": "https://localhost:8080/"
        },
        "id": "umfK_WUP5PL7",
        "outputId": "145b306b-f5a9-4e77-bf58-af17a068f2d0"
      },
      "execution_count": 60,
      "outputs": [
        {
          "output_type": "stream",
          "name": "stdout",
          "text": [
            "  tumor_type  count\n",
            "0     benign     30\n",
            "1  malignant     20\n",
            "2     benign     25\n"
          ]
        }
      ]
    },
    {
      "cell_type": "code",
      "source": [
        "print(tumor_df.columns)\n"
      ],
      "metadata": {
        "colab": {
          "base_uri": "https://localhost:8080/"
        },
        "id": "UZaNc6y056UY",
        "outputId": "35b7e2fa-7285-44fa-887e-3a3acfc8dc1b"
      },
      "execution_count": 63,
      "outputs": [
        {
          "output_type": "stream",
          "name": "stdout",
          "text": [
            "Index(['tumor_type', 'count'], dtype='object')\n"
          ]
        }
      ]
    },
    {
      "cell_type": "code",
      "source": [
        "print(tumor_df.head())\n"
      ],
      "metadata": {
        "colab": {
          "base_uri": "https://localhost:8080/"
        },
        "id": "P96-VpgN580L",
        "outputId": "a259b3ba-0eee-437b-a16c-9e2fe1888734"
      },
      "execution_count": 64,
      "outputs": [
        {
          "output_type": "stream",
          "name": "stdout",
          "text": [
            "  tumor_type  count\n",
            "0     benign     30\n",
            "1  malignant     20\n",
            "2     benign     25\n"
          ]
        }
      ]
    },
    {
      "cell_type": "code",
      "source": [
        "from google.colab import drive\n",
        "drive.mount('/content/drive')"
      ],
      "metadata": {
        "id": "KCw4Ir_YVrMq"
      },
      "execution_count": null,
      "outputs": []
    },
    {
      "cell_type": "code",
      "source": [
        "# Ensure you are saving the results to CSV files correctly\n",
        "recurrence_analysis.write.csv(\"recurrence_analysis_results.csv\", header=True, mode='overwrite')\n",
        "tumor_analysis.write.csv(\"tumor_analysis_results.csv\", header=True, mode='overwrite')\n",
        "\n",
        "print(\"Results saved successfully.\")\n"
      ],
      "metadata": {
        "colab": {
          "base_uri": "https://localhost:8080/"
        },
        "id": "3feh9GQwbtgp",
        "outputId": "7246707c-d0e5-4457-e6d7-02156fae9515"
      },
      "execution_count": 42,
      "outputs": [
        {
          "output_type": "stream",
          "name": "stdout",
          "text": [
            "Results saved successfully.\n"
          ]
        }
      ]
    },
    {
      "cell_type": "code",
      "source": [
        "import pandas as pd\n",
        "import matplotlib.pyplot as plt\n",
        "import seaborn as sns\n",
        "import os\n",
        "\n",
        "# List files in the current directory to ensure the CSV files exist\n",
        "print(\"Files in current directory:\")\n",
        "print(os.listdir())\n",
        "\n",
        "# Update the file path if necessary based on the files in the directory\n",
        "recurrence_file_path = \"recurrence_analysis_results.csv\"\n",
        "tumor_file_path = \"/content/tumor_analysis_results.csv\"\n",
        "\n",
        "# Check if the files exist before loading\n",
        "if os.path.isfile(recurrence_file_path):\n",
        "    # Load recurrence analysis results from CSV\n",
        "    recurrence_df = pd.read_csv(recurrence_file_path)\n",
        "    print(\"Recurrence Data Loaded Successfully.\")\n",
        "\n",
        "    # Plot recurrence analysis by age group\n",
        "    plt.figure(figsize=(10, 6))\n",
        "    sns.barplot(data=recurrence_df, x='age_group', y='count', hue='recurrence_status', palette='viridis')\n",
        "\n",
        "    # Add titles and labels\n",
        "    plt.title('Recurrence Status by Age Group')\n",
        "    plt.xlabel('Age Group')\n",
        "    plt.ylabel('Count')\n",
        "    plt.legend(title='Recurrence Status', loc='upper right')\n",
        "\n",
        "    # Save the plot as a PNG file\n",
        "    plt.tight_layout()\n",
        "    plt.savefig(\"recurrence_status_by_age_group.png\")\n",
        "    plt.show()\n",
        "else:\n",
        "    print(f\"File {recurrence_file_path} not found in the current directory.\")\n",
        "\n",
        "# Check and plot tumor analysis if the file exists\n",
        "if os.path.isfile(tumor_file_path):\n",
        "    # Load tumor analysis results from CSV\n",
        "    tumor_df = pd.read_csv(tumor_file_path)\n",
        "    print(\"Tumor Data Loaded Successfully.\")\n",
        "    tumor_df = pd.DataFrame({\n",
        "    'tumor_type': ['benign', 'malignant', 'benign'],\n",
        "    'count': [30, 20, 25]\n",
        "})\n",
        "\n",
        "# Plotting the data\n",
        "plt.figure(figsize=(10, 6))\n",
        "sns.barplot(data=tumor_df, x='tumor_type', y='count', palette='coolwarm')\n",
        "plt.title('Tumor Type Distribution')\n",
        "plt.xlabel('Tumor Type')\n",
        "plt.ylabel('Count')\n",
        "plt.show()\n",
        "\n",
        "\n",
        "\n",
        "\n",
        ""
      ],
      "metadata": {
        "colab": {
          "base_uri": "https://localhost:8080/",
          "height": 1000
        },
        "id": "6eih2vZctbvy",
        "outputId": "8e2a7c83-333f-4644-f4ae-5f51986b1cab"
      },
      "execution_count": 73,
      "outputs": [
        {
          "output_type": "stream",
          "name": "stdout",
          "text": [
            "Files in current directory:\n",
            "['.config', 'tumor_analysis_results_dir', 'Index', '.ipynb_checkpoints', 'recurrence_status_by_age_group.png', 'sample_data', 'tumor_analysis_results.csv', 'recurrence_analysis_results_dir', 'breast-cancer.data', 'breast-cancer.names', 'recurrence_analysis_results.csv']\n",
            "Recurrence Data Loaded Successfully.\n"
          ]
        },
        {
          "output_type": "display_data",
          "data": {
            "text/plain": [
              "<Figure size 1000x600 with 1 Axes>"
            ],
            "image/png": "[encoded data removed]"
          },
          "metadata": {}
        },
        {
          "output_type": "stream",
          "name": "stdout",
          "text": [
            "Tumor Data Loaded Successfully.\n"
          ]
        },
        {
          "output_type": "stream",
          "name": "stderr",
          "text": [
            "<ipython-input-73-49e486433ad9>:49: FutureWarning: \n",
            "\n",
            "Passing `palette` without assigning `hue` is deprecated and will be removed in v0.14.0. Assign the `x` variable to `hue` and set `legend=False` for the same effect.\n",
            "\n",
            "  sns.barplot(data=tumor_df, x='tumor_type', y='count', palette='coolwarm')\n"
          ]
        },
        {
          "output_type": "display_data",
          "data": {
            "text/plain": [
              "<Figure size 1000x600 with 1 Axes>"
            ],
            "image/png": "[encoded data removed]"
          },
          "metadata": {}
        }
      ]
    },
    {
      "cell_type": "code",
      "source": [],
      "metadata": {
        "id": "8dIn1R7ltbVU"
      },
      "execution_count": null,
      "outputs": []
    }
  ]
}